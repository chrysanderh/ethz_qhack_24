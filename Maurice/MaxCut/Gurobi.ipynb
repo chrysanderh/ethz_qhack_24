{
 "cells": [
  {
   "cell_type": "code",
   "execution_count": 5,
   "metadata": {},
   "outputs": [
    {
     "name": "stdout",
     "output_type": "stream",
     "text": [
      "Gurobi Optimizer version 11.0.1 build v11.0.1rc0 (linux64 - \"Ubuntu 22.04.4 LTS\")\n",
      "\n",
      "CPU model: AMD EPYC 7313 16-Core Processor, instruction set [SSE2|AVX|AVX2]\n",
      "Thread count: 32 physical cores, 64 logical processors, using up to 32 threads\n",
      "\n",
      "Optimize a model with 0 rows, 16 columns and 0 nonzeros\n",
      "Model fingerprint: 0x03113082\n",
      "Model has 24 quadratic objective terms\n",
      "Variable types: 0 continuous, 16 integer (16 binary)\n",
      "Coefficient statistics:\n",
      "  Matrix range     [0e+00, 0e+00]\n",
      "  Objective range  [3e+00, 3e+00]\n",
      "  QObjective range [4e+00, 4e+00]\n",
      "  Bounds range     [1e+00, 1e+00]\n",
      "  RHS range        [0e+00, 0e+00]\n",
      "Found heuristic solution: objective -0.0000000\n",
      "Found heuristic solution: objective 22.0000000\n",
      "Presolve time: 0.00s\n",
      "Presolved: 21 rows, 37 columns, 63 nonzeros\n",
      "Variable types: 0 continuous, 37 integer (37 binary)\n",
      "\n",
      "Root relaxation: cutoff, 8 iterations, 0.00 seconds (0.00 work units)\n",
      "\n",
      "    Nodes    |    Current Node    |     Objective Bounds      |     Work\n",
      " Expl Unexpl |  Obj  Depth IntInf | Incumbent    BestBd   Gap | It/Node Time\n",
      "\n",
      "     0     0     cutoff    0        22.00000   22.00000  0.00%     -    0s\n",
      "\n",
      "Explored 1 nodes (8 simplex iterations) in 0.02 seconds (0.00 work units)\n",
      "Thread count was 32 (of 64 available processors)\n",
      "\n",
      "Solution count 3: 22 6 -0 \n",
      "\n",
      "Optimal solution found (tolerance 1.00e-04)\n",
      "Best objective 2.200000000000e+01, best bound 2.200000000000e+01, gap 0.0000%\n",
      "Max-Cut Value: 22.0\n",
      "Group 1: [3, 14, 11, 8, 5, 9, 12, 10]\n",
      "Group 2: [4, 1, 2, 15, 6, 7, 0, 13]\n"
     ]
    }
   ],
   "source": [
    "from gurobipy import Model, GRB\n",
    "import networkx as nx\n",
    "\n",
    "# Define the graph\n",
    "graph = [(3, 4), (3, 1), (3, 2), (4, 14), (4, 11), (8, 15), (8, 2), (8, 11), (15, 5), (15, 9), (2, 5), (5, 6), (1, 12), (1, 10), (12, 7), (12, 0), (13, 14), (13, 7), (13, 9), (14, 6), (6, 11), (7, 10), (10, 0), (9, 0)]\n",
    "\n",
    "G = nx.Graph()\n",
    "G.add_edges_from(graph)\n",
    "\n",
    "def max_cut_gurobi(graph):\n",
    "    model = Model(\"max_cut\")\n",
    "\n",
    "    # Variables: x[i] is 1 if node i is in one set of the cut, 0 otherwise\n",
    "    x = model.addVars(graph.nodes(), vtype=GRB.BINARY, name=\"x\")\n",
    "\n",
    "    # Objective: Maximize the sum of edges between the sets\n",
    "    model.setObjective(sum(x[i] + x[j] - 2 * x[i] * x[j] for i, j in graph.edges()), GRB.MAXIMIZE)\n",
    "\n",
    "    # Optimize model\n",
    "    model.optimize()\n",
    "\n",
    "    if model.status == GRB.OPTIMAL:\n",
    "        print('Max-Cut Value:', model.objVal)\n",
    "        group1 = [i for i in graph.nodes() if x[i].X >= 0.5]\n",
    "        group2 = [i for i in graph.nodes() if x[i].X < 0.5]\n",
    "        print(\"Group 1:\", group1)\n",
    "        print(\"Group 2:\", group2)\n",
    "    else:\n",
    "        print(\"No optimal solution found.\")\n",
    "\n",
    "# Run the Max-Cut function\n",
    "max_cut_gurobi(G)\n"
   ]
  }
 ],
 "metadata": {
  "kernelspec": {
   "display_name": "Python 3 (ipykernel)",
   "language": "python",
   "name": "python3"
  },
  "language_info": {
   "codemirror_mode": {
    "name": "ipython",
    "version": 3
   },
   "file_extension": ".py",
   "mimetype": "text/x-python",
   "name": "python",
   "nbconvert_exporter": "python",
   "pygments_lexer": "ipython3",
   "version": "3.10.12"
  }
 },
 "nbformat": 4,
 "nbformat_minor": 2
}
