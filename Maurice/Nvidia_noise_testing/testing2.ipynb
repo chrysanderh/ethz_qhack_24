{
 "cells": [
  {
   "cell_type": "code",
   "execution_count": 1,
   "metadata": {},
   "outputs": [],
   "source": [
    "import cudaq"
   ]
  },
  {
   "cell_type": "code",
   "execution_count": 9,
   "metadata": {},
   "outputs": [
    {
     "name": "stdout",
     "output_type": "stream",
     "text": [
      "Target density-matrix-cpu\n",
      "\tsimulator=dm\n",
      "\tplatform=default\n",
      "\tdescription=The Density Matrix CPU Target provides a simulated QPU via OpenMP-enabled, CPU-only density matrix emulation.\n",
      "\n",
      "{ 0:49 1:51 }\n",
      "\n",
      "{ 1:100 }\n",
      "\n"
     ]
    }
   ],
   "source": [
    "import cudaq\n",
    "\n",
    "# Set the target to our density matrix simulator.\n",
    "cudaq.set_target('density-matrix-cpu')\n",
    "# cudaq.set_target('nvidia-mgpu')\n",
    "# cudaq.set_target('nvidia')\n",
    "print(cudaq.get_target())\n",
    "\n",
    "# We will begin by defining an empty noise model that we will add\n",
    "# these decoherence channels to.\n",
    "noise = cudaq.NoiseModel()\n",
    "\n",
    "# Bit flip channel with `1.0` probability of the qubit flipping 180 degrees.\n",
    "bit_flip = cudaq.BitFlipChannel(.5)\n",
    "# We will apply this channel to any X gate on the qubit, giving each X-gate\n",
    "# a probability of `1.0` of undergoing an extra X-gate.\n",
    "noise.add_channel('x', [0], bit_flip)\n",
    "\n",
    "# construct a circuit\n",
    "kernel = cudaq.make_kernel()\n",
    "qubit = kernel.qalloc()\n",
    "\n",
    "# Apply an X-gate to the qubit.\n",
    "# It will remain in the |1> state with a probability of `1 - p = 0.9`.\n",
    "kernel.x(qubit)\n",
    "kernel.mz(qubit)\n",
    "\n",
    "# noisy simulation\n",
    "\n",
    "noisy_result = cudaq.sample(kernel, noise_model=noise, shots_count=int(1e2))\n",
    "noisy_result.dump()\n",
    "print(noisy_result)\n",
    "\n",
    "# noiseless simulation\n",
    "\n",
    "noiseless_result = cudaq.sample(kernel, shots_count = int(1e2))\n",
    "noiseless_result.dump()\n",
    "print(noiseless_result)"
   ]
  },
  {
   "cell_type": "code",
   "execution_count": 15,
   "metadata": {},
   "outputs": [
    {
     "name": "stdout",
     "output_type": "stream",
     "text": [
      "Noisy simulation (CPU):\n",
      "Noisy simulation (NVIDIA):\n",
      "Noiseless simulation (CPU):\n",
      "\n",
      "Comparing results:\n",
      "CPU noisy: { 0:772 1:728 }\n",
      "\n",
      "GPU noisy: { 1:1500 }\n",
      "\n",
      "CPU noiseless: { 1:1500 }\n",
      "\n"
     ]
    }
   ],
   "source": [
    "import cudaq\n",
    "\n",
    "def run_simulation(target, noise_model=False, shots_count=1500):\n",
    "    # Set the target for the simulator\n",
    "    cudaq.set_target(target)\n",
    "\n",
    "    # Define the noise model if any\n",
    "    noise = cudaq.NoiseModel()\n",
    "    bit_flip = cudaq.BitFlipChannel(.5)  # 50% probability of a bit flip\n",
    "    noise.add_channel('x', [0], bit_flip)\n",
    "\n",
    "    # Construct a quantum circuit\n",
    "    kernel = cudaq.make_kernel()\n",
    "    qubit = kernel.qalloc(1)\n",
    "\n",
    "    # Measure the qubit in the zbasis\n",
    "    kernel.x(qubit)\n",
    "    kernel.mz(qubit)\n",
    "\n",
    "    # Perform the simulation\n",
    "    noise_model = noise if noise_model == True else None\n",
    "    result = cudaq.sample(kernel, noise_model=noise_model, shots_count=shots_count)\n",
    "    result.dump()\n",
    "    return result\n",
    "\n",
    "# Test scenario\n",
    "def test_simulation():\n",
    "    # Run with CPU target (noisy)\n",
    "    print(\"Noisy simulation (CPU):\")\n",
    "    noisy_result_cpu = run_simulation('density-matrix-cpu', noise_model=True)\n",
    "\n",
    "    # Run with NVIDIA target (noisy)\n",
    "    print(\"Noisy simulation (NVIDIA):\")\n",
    "    noisy_result_gpu = run_simulation('nvidia', noise_model=True)\n",
    "\n",
    "    # Run with CPU target (noiseless)\n",
    "    print(\"Noiseless simulation (CPU):\")\n",
    "    noiseless_result_cpu = run_simulation('density-matrix-cpu', noise_model=False)\n",
    "\n",
    "\n",
    "    print(\"\\nComparing results:\")\n",
    "    print(f\"CPU noisy: {noisy_result_cpu}\")\n",
    "    print(f\"GPU noisy: {noisy_result_gpu}\")\n",
    "    print(f\"CPU noiseless: {noiseless_result_cpu}\")\n",
    "\n",
    "\n",
    "test_simulation()\n"
   ]
  }
 ],
 "metadata": {
  "kernelspec": {
   "display_name": "Python 3 (ipykernel)",
   "language": "python",
   "name": "python3"
  },
  "language_info": {
   "codemirror_mode": {
    "name": "ipython",
    "version": 3
   },
   "file_extension": ".py",
   "mimetype": "text/x-python",
   "name": "python",
   "nbconvert_exporter": "python",
   "pygments_lexer": "ipython3",
   "version": "3.10.12"
  }
 },
 "nbformat": 4,
 "nbformat_minor": 2
}
