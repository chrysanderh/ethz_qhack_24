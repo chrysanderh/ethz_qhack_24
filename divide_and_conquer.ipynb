{
 "cells": [
  {
   "cell_type": "markdown",
   "metadata": {},
   "source": [
    "# Divide and Conquer method\n",
    "https://arxiv.org/pdf/2205.11762\n",
    "\n",
    "The first step is to divide a graph into a number of subgraphs with no more vertices than the number of available qubits on our quantum computer.\n",
    "To do this we use the code for the Graph class given in the paper (utilities.py)."
   ]
  },
  {
   "cell_type": "code",
   "execution_count": 10,
   "metadata": {},
   "outputs": [],
   "source": [
    "from utilities import *\n",
    "from QAOA import *\n",
    "from QAOA_square import *\n",
    "import time"
   ]
  },
  {
   "cell_type": "markdown",
   "metadata": {},
   "source": [
    "### Create a graph"
   ]
  },
  {
   "cell_type": "code",
   "execution_count": 11,
   "metadata": {},
   "outputs": [],
   "source": [
    "graph = [(3, 4), (3, 1), (3, 2), (4, 14), (4, 11), (8, 15), (8, 2), (8, 11), (15, 5), (15, 9), (2, 5), (5, 6), (1, 12), (1, 10), (12, 7), (12, 0), (13, 14), (13, 7), (13, 9), (14, 6), (6, 11), (7, 10), (10, 0), (9, 0)]\n",
    "G = Graph(v=list(range(16)), edges=graph)"
   ]
  },
  {
   "cell_type": "markdown",
   "metadata": {},
   "source": [
    "## Run normal QAOA to compare results"
   ]
  },
  {
   "cell_type": "code",
   "execution_count": 12,
   "metadata": {},
   "outputs": [
    {
     "name": "stdout",
     "output_type": "stream",
     "text": [
      "\u001b[1m"
     ]
    },
    {
     "ename": "RuntimeError",
     "evalue": "\u001b[91merror: \u001b[0m\u001b[1mCUDA Quantum kernel has return statement but no return type annotation.\u001b[0m\n\nOffending code:\n  File \"/usr/lib/python3.10/runpy.py\", line 196, in _run_module_as_main\n    return _run_code(code, main_globals, None,\n",
     "output_type": "error",
     "traceback": [
      "\u001b[0;31m---------------------------------------------------------------------------\u001b[0m",
      "\u001b[0;31mRuntimeError\u001b[0m                              Traceback (most recent call last)",
      "Cell \u001b[0;32mIn[12], line 1\u001b[0m\n\u001b[0;32m----> 1\u001b[0m value_qaoa, sol_qaoa \u001b[38;5;241m=\u001b[39m \u001b[43mqaoa\u001b[49m\u001b[43m(\u001b[49m\u001b[43mG\u001b[49m\u001b[43m,\u001b[49m\u001b[43m \u001b[49m\u001b[43mlayer_count\u001b[49m\u001b[38;5;241;43m=\u001b[39;49m\u001b[38;5;241;43m2\u001b[39;49m\u001b[43m)\u001b[49m\n\u001b[1;32m      2\u001b[0m \u001b[38;5;28mprint\u001b[39m(value_qaoa)\n\u001b[1;32m      3\u001b[0m \u001b[38;5;28mprint\u001b[39m(sol_qaoa)\n",
      "File \u001b[0;32m~/ethz_qhack_24/QAOA.py:71\u001b[0m, in \u001b[0;36mqaoa\u001b[0;34m(G, shots, layer_count, const, save_file)\u001b[0m\n\u001b[1;32m      0\u001b[0m <Error retrieving source code with stack_data see ipython/ipython#13598>\n",
      "File \u001b[0;32m/opt/nvidia/cudaq/cudaq/kernel/kernel_decorator.py:263\u001b[0m, in \u001b[0;36mkernel\u001b[0;34m(function, **kwargs)\u001b[0m\n\u001b[1;32m    254\u001b[0m \u001b[38;5;250m\u001b[39m\u001b[38;5;124;03m\"\"\"\u001b[39;00m\n\u001b[1;32m    255\u001b[0m \u001b[38;5;124;03mThe `cudaq.kernel` represents the CUDA Quantum language function \u001b[39;00m\n\u001b[1;32m    256\u001b[0m \u001b[38;5;124;03mattribute that programmers leverage to indicate the following function \u001b[39;00m\n\u001b[0;32m   (...)\u001b[0m\n\u001b[1;32m    260\u001b[0m \u001b[38;5;124;03mVerbose logging can be enabled via `verbose=True`. \u001b[39;00m\n\u001b[1;32m    261\u001b[0m \u001b[38;5;124;03m\"\"\"\u001b[39;00m\n\u001b[1;32m    262\u001b[0m \u001b[38;5;28;01mif\u001b[39;00m function:\n\u001b[0;32m--> 263\u001b[0m     \u001b[38;5;28;01mreturn\u001b[39;00m \u001b[43mPyKernelDecorator\u001b[49m\u001b[43m(\u001b[49m\u001b[43mfunction\u001b[49m\u001b[43m)\u001b[49m\n\u001b[1;32m    264\u001b[0m \u001b[38;5;28;01melse\u001b[39;00m:\n\u001b[1;32m    266\u001b[0m     \u001b[38;5;28;01mdef\u001b[39;00m \u001b[38;5;21mwrapper\u001b[39m(function):\n",
      "File \u001b[0;32m/opt/nvidia/cudaq/cudaq/kernel/kernel_decorator.py:112\u001b[0m, in \u001b[0;36mPyKernelDecorator.__init__\u001b[0;34m(self, function, verbose, module, kernelName)\u001b[0m\n\u001b[1;32m    110\u001b[0m hasRetNodeVis\u001b[38;5;241m.\u001b[39mvisit(\u001b[38;5;28mself\u001b[39m\u001b[38;5;241m.\u001b[39mastModule)\n\u001b[1;32m    111\u001b[0m \u001b[38;5;28;01mif\u001b[39;00m hasRetNodeVis\u001b[38;5;241m.\u001b[39mhasReturnNode \u001b[38;5;129;01mand\u001b[39;00m \u001b[38;5;124m'\u001b[39m\u001b[38;5;124mreturn\u001b[39m\u001b[38;5;124m'\u001b[39m \u001b[38;5;129;01mnot\u001b[39;00m \u001b[38;5;129;01min\u001b[39;00m \u001b[38;5;28mself\u001b[39m\u001b[38;5;241m.\u001b[39msignature:\n\u001b[0;32m--> 112\u001b[0m     \u001b[43memitFatalError\u001b[49m\u001b[43m(\u001b[49m\n\u001b[1;32m    113\u001b[0m \u001b[43m        \u001b[49m\u001b[38;5;124;43m'\u001b[39;49m\u001b[38;5;124;43mCUDA Quantum kernel has return statement but no return type annotation.\u001b[39;49m\u001b[38;5;124;43m'\u001b[39;49m\n\u001b[1;32m    114\u001b[0m \u001b[43m    \u001b[49m\u001b[43m)\u001b[49m\n\u001b[1;32m    116\u001b[0m \u001b[38;5;66;03m# Run analyzers and attach metadata (only have 1 right now)\u001b[39;00m\n\u001b[1;32m    117\u001b[0m analyzer \u001b[38;5;241m=\u001b[39m MidCircuitMeasurementAnalyzer()\n",
      "File \u001b[0;32m/opt/nvidia/cudaq/cudaq/kernel/utils.py:63\u001b[0m, in \u001b[0;36memitFatalError\u001b[0;34m(msg)\u001b[0m\n\u001b[1;32m     60\u001b[0m     \u001b[38;5;28;01mif\u001b[39;00m \u001b[38;5;28mlen\u001b[39m(offendingSrc):\n\u001b[1;32m     61\u001b[0m         msg \u001b[38;5;241m=\u001b[39m Color\u001b[38;5;241m.\u001b[39mRED \u001b[38;5;241m+\u001b[39m \u001b[38;5;124m\"\u001b[39m\u001b[38;5;124merror: \u001b[39m\u001b[38;5;124m\"\u001b[39m \u001b[38;5;241m+\u001b[39m Color\u001b[38;5;241m.\u001b[39mEND \u001b[38;5;241m+\u001b[39m Color\u001b[38;5;241m.\u001b[39mBOLD \u001b[38;5;241m+\u001b[39m msg \u001b[38;5;241m+\u001b[39m Color\u001b[38;5;241m.\u001b[39mEND \u001b[38;5;241m+\u001b[39m \u001b[38;5;124m'\u001b[39m\u001b[38;5;130;01m\\n\u001b[39;00m\u001b[38;5;130;01m\\n\u001b[39;00m\u001b[38;5;124mOffending code:\u001b[39m\u001b[38;5;130;01m\\n\u001b[39;00m\u001b[38;5;124m'\u001b[39m \u001b[38;5;241m+\u001b[39m offendingSrc[\n\u001b[1;32m     62\u001b[0m             \u001b[38;5;241m0\u001b[39m]\n\u001b[0;32m---> 63\u001b[0m \u001b[38;5;28;01mraise\u001b[39;00m \u001b[38;5;167;01mRuntimeError\u001b[39;00m(msg)\n",
      "\u001b[0;31mRuntimeError\u001b[0m: \u001b[91merror: \u001b[0m\u001b[1mCUDA Quantum kernel has return statement but no return type annotation.\u001b[0m\n\nOffending code:\n  File \"/usr/lib/python3.10/runpy.py\", line 196, in _run_module_as_main\n    return _run_code(code, main_globals, None,\n"
     ]
    }
   ],
   "source": [
    "value_qaoa, sol_qaoa = qaoa(G, layer_count=2)\n",
    "print(value_qaoa)\n",
    "print(sol_qaoa)"
   ]
  },
  {
   "cell_type": "markdown",
   "metadata": {},
   "source": [
    "## Run with divide and conquer"
   ]
  },
  {
   "cell_type": "markdown",
   "metadata": {},
   "source": [
    "The following functions are used to take the output from <code>quaoa_square</code> and recontsruct the final partitioning."
   ]
  },
  {
   "cell_type": "code",
   "execution_count": null,
   "metadata": {},
   "outputs": [],
   "source": [
    "def flatten_2d_list(l):\n",
    "    flattened = []\n",
    "    for i in l:\n",
    "        for j in i:\n",
    "            flattened.append(j)\n",
    "    return flattened\n",
    "\n",
    "def contract_level(sols, sort = True):\n",
    "    \"\"\"\n",
    "    Take a dictionary from a divide and conquer solution and contract the last level\n",
    "\n",
    "    Parameters:\n",
    "        sols: Dict{int: List[String]}\n",
    "    \"\"\"\n",
    "    level = max(sols.keys())\n",
    "    merged_sol = []\n",
    "    for i, s in enumerate(sols[level - 1]['sol']):\n",
    "        # find index corresponding to this subgraph in the next level\n",
    "        idx = 0\n",
    "        for j, v in enumerate(sols[level]['v']):\n",
    "            if v == i:\n",
    "                idx = j\n",
    "                break\n",
    "        \n",
    "        for b in s:     \n",
    "            if sols[level]['sol'][idx] == '0':\n",
    "                merged_sol.append(b)\n",
    "            else:\n",
    "                merged_sol.append('0' if b == '1' else '1')\n",
    "\n",
    "    merged_sol = ''.join(merged_sol)\n",
    "    nodes = flatten_2d_list(sols[level - 1]['v'])\n",
    "    merged_sol_sorted = [-1 for _ in range(len(merged_sol))]\n",
    "    for n, p in zip(nodes, merged_sol):\n",
    "        merged_sol_sorted[n] = p\n",
    "    merged_sol_sorted = ''.join(merged_sol_sorted)\n",
    "    sol_dict = {i: sols[i] for i in range(level - 1)}\n",
    "    if sort:\n",
    "        sol_dict[level - 1] = {'sol': merged_sol_sorted, 'v': sorted(list(nodes))}\n",
    "    else:\n",
    "        sol_dict[level - 1] = {'sol': merged_sol, 'v': list(nodes)}\n",
    "    return sol_dict\n",
    "\n",
    "def contract_solution(sols, sort = True):\n",
    "    while len(sols) > 1:\n",
    "        sols = contract_level(sols, sort)\n",
    "    return sols\n"
   ]
  },
  {
   "cell_type": "code",
   "execution_count": 8,
   "metadata": {},
   "outputs": [],
   "source": [
    "def get_cost(x_vec, graph):\n",
    "    cost = 0\n",
    "    for edge in graph:\n",
    "        n1, n2 = edge\n",
    "        cost += int(x_vec[n1])*(1-int(x_vec[n2])) + int(x_vec[n2])*(1-int(x_vec[n1]))\n",
    "\n",
    "    return cost"
   ]
  },
  {
   "cell_type": "code",
   "execution_count": 9,
   "metadata": {},
   "outputs": [
    {
     "name": "stdout",
     "output_type": "stream",
     "text": [
      "Time taken: 54.11134338378906\n",
      "17.5\n",
      "{0: {'sol': ['00011101', '00011011'], 'v': [[7, 6, 2, 3, 12, 9, 4, 11], [8, 10, 5, 14, 1, 13, 0, 15]]}, 1: {'sol': '01', 'v': [0, 1]}}\n",
      "Final solution: 0001010011111100\n",
      "Cost: 20\n"
     ]
    }
   ],
   "source": [
    "start = time.time()\n",
    "value, sols = qaoa_square(G, depth=2, sub_size=8)\n",
    "end = time.time()\n",
    "\n",
    "print(\"Time taken:\", str(end - start))\n",
    "\n",
    "print(value)\n",
    "print(sols)\n",
    "final_partition = contract_solution(sols, sort=True)[0]['sol']\n",
    "cost = get_cost(final_partition, graph)\n",
    "\n",
    "print(\"Final solution:\", final_partition)\n",
    "print(\"Cost:\", cost)\n"
   ]
  },
  {
   "cell_type": "code",
   "execution_count": null,
   "metadata": {},
   "outputs": [],
   "source": []
  }
 ],
 "metadata": {
  "kernelspec": {
   "display_name": "Python 3 (ipykernel)",
   "language": "python",
   "name": "python3"
  },
  "language_info": {
   "codemirror_mode": {
    "name": "ipython",
    "version": 3
   },
   "file_extension": ".py",
   "mimetype": "text/x-python",
   "name": "python",
   "nbconvert_exporter": "python",
   "pygments_lexer": "ipython3",
   "version": "3.10.12"
  }
 },
 "nbformat": 4,
 "nbformat_minor": 4
}
