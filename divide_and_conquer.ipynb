{
 "cells": [
  {
   "cell_type": "markdown",
   "metadata": {},
   "source": [
    "# Divide and Conquer method\n",
    "https://arxiv.org/pdf/2205.11762\n",
    "\n",
    "The first step is to divide a graph into a number of subgraphs with no more vertices than the number of available qubits on our quantum computer.\n",
    "To do this we use the code for the Graph class given in the paper (utilities.py)."
   ]
  },
  {
   "cell_type": "code",
   "execution_count": 1,
   "metadata": {},
   "outputs": [],
   "source": [
    "from utilities import *\n",
    "from QAOA import *\n",
    "from QAOA_square import *"
   ]
  },
  {
   "cell_type": "markdown",
   "metadata": {},
   "source": [
    "### Create a graph"
   ]
  },
  {
   "cell_type": "code",
   "execution_count": 9,
   "metadata": {},
   "outputs": [],
   "source": [
    "graph = [(3, 4), (3, 1), (3, 2), (4, 14), (4, 11), (8, 15), (8, 2), (8, 11), (15, 5), (15, 9), (2, 5), (5, 6), (1, 12), (1, 10), (12, 7), (12, 0), (13, 14), (13, 7), (13, 9), (14, 6), (6, 11), (7, 10), (10, 0), (9, 0)]\n",
    "G = Graph(v=list(range(16)), edges=graph)"
   ]
  },
  {
   "cell_type": "markdown",
   "metadata": {},
   "source": [
    "## Run normal QAOA to compare results"
   ]
  },
  {
   "cell_type": "code",
   "execution_count": 4,
   "metadata": {},
   "outputs": [
    {
     "name": "stdout",
     "output_type": "stream",
     "text": [
      "2.5\n",
      "001110\n"
     ]
    }
   ],
   "source": [
    "value_qaoa, sol_qaoa = qaoa(G, layer_count=2)\n",
    "print(value_qaoa)\n",
    "print(sol_qaoa)"
   ]
  },
  {
   "cell_type": "markdown",
   "metadata": {},
   "source": [
    "## Run with divide and conquer"
   ]
  },
  {
   "cell_type": "markdown",
   "metadata": {},
   "source": [
    "The following functions are used to take the output from <code>quaoa_square</code> and recontsruct the final partitioning."
   ]
  },
  {
   "cell_type": "code",
   "execution_count": 5,
   "metadata": {},
   "outputs": [],
   "source": [
    "def flatten_2d_list(l):\n",
    "    flattened = []\n",
    "    for i in l:\n",
    "        for j in i:\n",
    "            flattened.append(j)\n",
    "    return flattened\n",
    "\n",
    "def contract_level(sols, sort = True):\n",
    "    \"\"\"\n",
    "    Take a dictionary from a divide and conquer solution and contract the last level\n",
    "\n",
    "    Parameters:\n",
    "        sols: Dict{int: List[String]}\n",
    "    \"\"\"\n",
    "    level = max(sols.keys())\n",
    "    merged_sol = []\n",
    "    for i, s in enumerate(sols[level - 1]['sol']):\n",
    "        # find index corresponding to this subgraph in the next level\n",
    "        idx = 0\n",
    "        for j, v in enumerate(sols[level]['v']):\n",
    "            if v == i:\n",
    "                idx = j\n",
    "                break\n",
    "        \n",
    "        for b in s:     \n",
    "            if sols[level]['sol'][idx] == '0':\n",
    "                merged_sol.append(b)\n",
    "            else:\n",
    "                merged_sol.append('0' if b == '1' else '1')\n",
    "\n",
    "    merged_sol = ''.join(merged_sol)\n",
    "    nodes = flatten_2d_list(sols[level - 1]['v'])\n",
    "    merged_sol_sorted = [-1 for _ in range(len(merged_sol))]\n",
    "    for n, p in zip(nodes, merged_sol):\n",
    "        merged_sol_sorted[n] = p\n",
    "    merged_sol_sorted = ''.join(merged_sol_sorted)\n",
    "    sol_dict = {i: sols[i] for i in range(level - 1)}\n",
    "    if sort:\n",
    "        sol_dict[level - 1] = {'sol': merged_sol_sorted, 'v': sorted(list(nodes))}\n",
    "    else:\n",
    "        sol_dict[level - 1] = {'sol': merged_sol, 'v': list(nodes)}\n",
    "    return sol_dict\n",
    "\n",
    "def contract_solution(sols, sort = True):\n",
    "    while len(sols) > 1:\n",
    "        sols = contract_level(sols, sort)\n",
    "    return sols\n"
   ]
  },
  {
   "cell_type": "code",
   "execution_count": 26,
   "metadata": {},
   "outputs": [],
   "source": [
    "def get_cost(x_vec, graph):\n",
    "    cost = 0\n",
    "    for edge in graph:\n",
    "        n1, n2 = edge\n",
    "        cost += int(x_vec[n1])*(1-int(x_vec[n2])) + int(x_vec[n2])*(1-int(x_vec[n1]))\n",
    "\n",
    "    return cost"
   ]
  },
  {
   "cell_type": "code",
   "execution_count": 29,
   "metadata": {},
   "outputs": [
    {
     "name": "stdout",
     "output_type": "stream",
     "text": [
      "18.5\n",
      "{0: {'sol': ['00001111', '00101011'], 'v': [[8, 4, 6, 7, 3, 11, 12, 5], [1, 15, 9, 13, 10, 0, 2, 14]]}, 1: {'sol': '01', 'v': [0, 1]}}\n",
      "Final solution: 1101010000011101\n",
      "Cost: 19\n"
     ]
    }
   ],
   "source": [
    "value, sols = qaoa_square(G, depth=2, sub_size=8)\n",
    "\n",
    "print(value)\n",
    "print(sols)\n",
    "final_partition = contract_solution(sols, sort=True)[0]['sol']\n",
    "cost = get_cost(final_partition_vec, graph)\n",
    "\n",
    "print(\"Final solution:\", final_partition)\n",
    "print(\"Cost:\", cost)"
   ]
  }
 ],
 "metadata": {
  "kernelspec": {
   "display_name": "Python 3",
   "language": "python",
   "name": "python3"
  },
  "language_info": {
   "codemirror_mode": {
    "name": "ipython",
    "version": 3
   },
   "file_extension": ".py",
   "mimetype": "text/x-python",
   "name": "python",
   "nbconvert_exporter": "python",
   "pygments_lexer": "ipython3",
   "version": "3.10.12"
  }
 },
 "nbformat": 4,
 "nbformat_minor": 2
}
