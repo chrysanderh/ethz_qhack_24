{
 "cells": [
  {
   "cell_type": "markdown",
   "metadata": {},
   "source": [
    "# Divide and Conquer method\n",
    "https://arxiv.org/pdf/2205.11762"
   ]
  },
  {
   "cell_type": "code",
   "execution_count": 1,
   "metadata": {},
   "outputs": [],
   "source": [
    "from utilities import *\n",
    "from QAOA import *\n",
    "from QAOA_square import * \n",
    "import time"
   ]
  },
  {
   "cell_type": "markdown",
   "metadata": {},
   "source": [
    "### Generate random graph"
   ]
  },
  {
   "cell_type": "code",
   "execution_count": 9,
   "metadata": {},
   "outputs": [],
   "source": [
    "n_nodes = 12 # Number of nodes in the graph\n",
    "\n",
    "graph, edges = generate_regular_3_graph(n_nodes, seed=42)\n",
    "G = Graph(v=list(range(n_nodes)), edges=edges)"
   ]
  },
  {
   "cell_type": "markdown",
   "metadata": {},
   "source": [
    "### Get optimal solution with Gurobi"
   ]
  },
  {
   "cell_type": "code",
   "execution_count": 10,
   "metadata": {},
   "outputs": [
    {
     "name": "stdout",
     "output_type": "stream",
     "text": [
      "Max-Cut Value: 16\n",
      "Gurobi partition: [{1, 3, 4, 8, 9, 10}, {0, 2, 5, 6, 7, 11}]\n"
     ]
    }
   ],
   "source": [
    "gurobi_sol = max_cut_gurobi(graph)\n",
    "if gurobi_sol is not None:\n",
    "    print(f'Gurobi partition: {gurobi_sol[1]}')"
   ]
  },
  {
   "cell_type": "markdown",
   "metadata": {},
   "source": [
    "### Run divide and conquer"
   ]
  },
  {
   "cell_type": "code",
   "execution_count": 13,
   "metadata": {},
   "outputs": [
    {
     "name": "stdout",
     "output_type": "stream",
     "text": [
      "D&C max-cut value: 11\n",
      "D&C partition: [[0, 1, 2, 3, 4, 5], [6, 7, 8, 9, 10, 11]]\n"
     ]
    }
   ],
   "source": [
    "partition_size = 6\n",
    "\n",
    "start = time.time()\n",
    "_, sols = qaoa_square(G, depth=2, sub_size=partition_size, partition_method='modularity')\n",
    "end = time.time()\n",
    "\n",
    "runtime = end - start\n",
    "\n",
    "# reconstruct the partition from the divide and conquer solution\n",
    "dac_partition = contract_solution(sols, sort=True)[0]['sol']\n",
    "dac_partition_v = sols[0]['v']\n",
    "dac_cost = get_cost(dac_partition, edges)\n",
    "\n",
    "print(f'D&C max-cut value: {dac_cost}')\n",
    "print(f'D&C partition: {dac_partition_v}')"
   ]
  },
  {
   "cell_type": "code",
   "execution_count": null,
   "metadata": {},
   "outputs": [],
   "source": []
  }
 ],
 "metadata": {
  "kernelspec": {
   "display_name": "Python 3 (ipykernel)",
   "language": "python",
   "name": "python3"
  },
  "language_info": {
   "codemirror_mode": {
    "name": "ipython",
    "version": 3
   },
   "file_extension": ".py",
   "mimetype": "text/x-python",
   "name": "python",
   "nbconvert_exporter": "python",
   "pygments_lexer": "ipython3",
   "version": "3.10.12"
  }
 },
 "nbformat": 4,
 "nbformat_minor": 4
}
